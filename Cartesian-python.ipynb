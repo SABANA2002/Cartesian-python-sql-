{
 "cells": [
  {
   "cell_type": "code",
   "execution_count": 3,
   "id": "7a575477",
   "metadata": {},
   "outputs": [
    {
     "name": "stdout",
     "output_type": "stream",
     "text": [
      "\"This declaration represents a political commitment among declaration partners to advance a positive vision for the Internet in this era of a united europe\"\n",
      "\n",
      "PRINTING WORD IN REVERSE:\n",
      "\"Europe united a of era this in internet the for vision positive a advance to partners declaration among commitment political a represents declaration this\"\n",
      "\n",
      "OCCURRENCE OF WORDS:\n",
      "a : 3times\n",
      "this : 2times\n"
     ]
    }
   ],
   "source": [
    "l = input()\n",
    "l=l.lower()\n",
    "\n",
    "word = l.split()\n",
    "list_word=list(word)\n",
    "word = list(reversed(word))\n",
    "first=\"\"\n",
    "second=\"\"\n",
    "for i in word[0]:\n",
    "    if(i.startswith('\"') and i.endswith('\"')):\n",
    "        continue\n",
    "    else:\n",
    "        first+=i\n",
    "for i in word[len(word)-1]:\n",
    "    if(i.startswith('\"') and i.endswith('\"')):\n",
    "        continue\n",
    "    else:\n",
    "        second+=i\n",
    "f=first.capitalize()\n",
    "print()\n",
    "print(\"PRINTING WORD IN REVERSE:\")\n",
    "print('\"'+f+\" \"+\" \".join(word[1:len(word)-1])+\" \"+second+'\"')\n",
    "\n",
    "\n",
    "words = {}\n",
    "\n",
    "words[second]=words.get(second,0)+1\n",
    "for word in list_word[1:len(list_word)-1]:\n",
    "    words[word] = words.get(word,0) + 1\n",
    "words[first]=words.get(first,0)+1\n",
    "\n",
    "\n",
    "count=0\n",
    "print()\n",
    "print(\"OCCURRENCE OF WORDS:\")\n",
    "for ww in sorted(words,key=words.get,reverse=True):\n",
    "    print(\"{} : {}times\".format(ww,words[ww]))\n",
    "    if(count==1):\n",
    "        break\n",
    "    count+=1"
   ]
  }
 ],
 "metadata": {
  "kernelspec": {
   "display_name": "Python 3 (ipykernel)",
   "language": "python",
   "name": "python3"
  },
  "language_info": {
   "codemirror_mode": {
    "name": "ipython",
    "version": 3
   },
   "file_extension": ".py",
   "mimetype": "text/x-python",
   "name": "python",
   "nbconvert_exporter": "python",
   "pygments_lexer": "ipython3",
   "version": "3.9.7"
  }
 },
 "nbformat": 4,
 "nbformat_minor": 5
}
